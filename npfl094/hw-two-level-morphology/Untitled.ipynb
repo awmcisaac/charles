{
 "cells": [
  {
   "cell_type": "code",
   "execution_count": 58,
   "metadata": {},
   "outputs": [],
   "source": [
    "with open(\"lexicon.txt\") as f:\n",
    "    lexicon = [tuple(line.strip().split(\"\\t\")) for line in f.readlines()]"
   ]
  },
  {
   "cell_type": "code",
   "execution_count": 59,
   "metadata": {},
   "outputs": [],
   "source": [
    "adjectives = [word for word, tag in list(filter(lambda line: \"ADJE\" in line, lexicon))]"
   ]
  },
  {
   "cell_type": "code",
   "execution_count": 60,
   "metadata": {},
   "outputs": [],
   "source": [
    "masc_weak_nouns = [word for word, tag in list(filter(lambda line: \"NOUN|M|Weak\" in line, lexicon))]"
   ]
  },
  {
   "cell_type": "code",
   "execution_count": 61,
   "metadata": {},
   "outputs": [],
   "source": [
    "# masculine nouns with no ending in the plural (optional umlaut)\n",
    "masc_no_nouns = [word for word, tag in list(filter(lambda line: \"NOUN|M|no\" in line, lexicon))]\n",
    "masc_e_nouns = [word for word, tag in list(filter(lambda line: \"NOUN|M|e\" in line, lexicon))]\n",
    "masc_n_nouns = [word for word, tag in list(filter(lambda line: \"NOUN|M|n\" in line, lexicon))]\n",
    "masc_er_nouns = [word for word, tag in list(filter(lambda line: \"NOUN|M|er\" in line, lexicon))]\n",
    "masc_s_nouns = [word for word, tag in list(filter(lambda line: \"NOUN|M|s\" in line, lexicon))]"
   ]
  },
  {
   "cell_type": "code",
   "execution_count": 62,
   "metadata": {},
   "outputs": [],
   "source": [
    "# feminine nouns with no ending in the plural (optional umlaut)\n",
    "fem_no_nouns = [word for word, tag in list(filter(lambda line: \"NOUN|F|no\" in line, lexicon))]\n",
    "fem_e_nouns = [word for word, tag in list(filter(lambda line: \"NOUN|F|e\" in line, lexicon))]\n",
    "fem_n_nouns = [word for word, tag in list(filter(lambda line: \"NOUN|F|n\" in line, lexicon))]\n",
    "fem_s_nouns = [word for word, tag in list(filter(lambda line: \"NOUN|F|s\" in line, lexicon))]"
   ]
  },
  {
   "cell_type": "code",
   "execution_count": 63,
   "metadata": {},
   "outputs": [],
   "source": [
    "# neuter nouns with no ending in the plural (optional umlaut)\n",
    "neut_no_nouns = [word for word, tag in list(filter(lambda line: \"NOUN|N|no\" in line, lexicon))]\n",
    "neut_e_nouns = [word for word, tag in list(filter(lambda line: \"NOUN|N|e\" in line, lexicon))]\n",
    "neut_n_nouns = [word for word, tag in list(filter(lambda line: \"NOUN|N|n\" in line, lexicon))]\n",
    "neut_er_nouns = [word for word, tag in list(filter(lambda line: \"NOUN|N|er\" in line, lexicon))]\n",
    "neut_s_nouns = [word for word, tag in list(filter(lambda line: \"NOUN|N|s\" in line, lexicon))]"
   ]
  },
  {
   "cell_type": "code",
   "execution_count": 65,
   "metadata": {},
   "outputs": [],
   "source": [
    "neut_unk_nouns = list(filter(lambda line: \"NOUN|N\" in line, lexicon))"
   ]
  },
  {
   "cell_type": "code",
   "execution_count": 81,
   "metadata": {},
   "outputs": [
    {
     "data": {
      "text/plain": [
       "[('Bauerntheater', 'NOUN|N'),\n",
       " ('Plaudern', 'NOUN|N'),\n",
       " ('Gerichtsgebäude', 'NOUN|N'),\n",
       " ('Rückkaufprogramm', 'NOUN|N'),\n",
       " ('Erfühlen', 'NOUN|N')]"
      ]
     },
     "execution_count": 81,
     "metadata": {},
     "output_type": "execute_result"
    }
   ],
   "source": [
    "neut_unk_nouns[:5]"
   ]
  },
  {
   "cell_type": "code",
   "execution_count": 101,
   "metadata": {},
   "outputs": [],
   "source": [
    "import re\n",
    "neut_s_nouns += list(filter(lambda c: re.search(r'(a|i|o|u)$', c[0]), neut_unk_nouns))"
   ]
  },
  {
   "cell_type": "code",
   "execution_count": 102,
   "metadata": {},
   "outputs": [],
   "source": [
    "neut_unk_nouns = list(filter(lambda c: not re.search(r'(a|i|o|u)$', c[0]), neut_unk_nouns))"
   ]
  },
  {
   "cell_type": "code",
   "execution_count": 115,
   "metadata": {},
   "outputs": [],
   "source": [
    "neut_no_nouns += list(filter(lambda c: re.search(r'(el|er|en)$', c[0]), neut_unk_nouns))"
   ]
  },
  {
   "cell_type": "code",
   "execution_count": 116,
   "metadata": {},
   "outputs": [],
   "source": [
    "neut_unk_nouns = list(filter(lambda c: not re.search(r'(el|er|en)$', c[0]), neut_unk_nouns))"
   ]
  },
  {
   "cell_type": "code",
   "execution_count": 119,
   "metadata": {},
   "outputs": [],
   "source": [
    "neut_ss_nouns = list(filter(lambda c: re.search(r'nis$', c[0]), neut_unk_nouns))"
   ]
  },
  {
   "cell_type": "code",
   "execution_count": 121,
   "metadata": {},
   "outputs": [],
   "source": [
    "neut_unk_nouns = list(filter(lambda c: not re.search(r'nis$', c[0]), neut_unk_nouns))"
   ]
  },
  {
   "cell_type": "code",
   "execution_count": 124,
   "metadata": {},
   "outputs": [],
   "source": [
    "# very roughly, everything else should be plurals ending in -er\n",
    "neut_er_nouns += [word for word, tag in neut_unk_nouns]"
   ]
  }
 ],
 "metadata": {
  "kernelspec": {
   "display_name": "Python 3",
   "language": "python",
   "name": "python3"
  },
  "language_info": {
   "codemirror_mode": {
    "name": "ipython",
    "version": 3
   },
   "file_extension": ".py",
   "mimetype": "text/x-python",
   "name": "python",
   "nbconvert_exporter": "python",
   "pygments_lexer": "ipython3",
   "version": "3.8.10"
  }
 },
 "nbformat": 4,
 "nbformat_minor": 4
}
