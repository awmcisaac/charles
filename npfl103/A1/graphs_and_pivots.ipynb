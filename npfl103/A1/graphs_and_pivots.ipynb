{
 "cells": [
  {
   "cell_type": "code",
   "execution_count": 14,
   "metadata": {},
   "outputs": [],
   "source": [
    "with open(\"results/eval_run-1_train_cs.txt\") as f:\n",
    "    results = [line.strip().split(\"\\t\") for line in f.readlines()]"
   ]
  },
  {
   "cell_type": "code",
   "execution_count": 15,
   "metadata": {},
   "outputs": [],
   "source": [
    "iprec = results[10:21]\n",
    "iprec = [[float(recall.strip().split(\"_\")[-1]), float(value)] for (recall, al, value) in iprec]\n",
    "values = [float(value) for (recall, value) in iprec]\n",
    "x = [recall for (recall, value) in iprec]"
   ]
  },
  {
   "cell_type": "code",
   "execution_count": 16,
   "metadata": {},
   "outputs": [
    {
     "data": {
      "text/plain": [
       "array([[0.    , 0.5029],\n",
       "       [0.1   , 0.4581],\n",
       "       [0.2   , 0.3487],\n",
       "       [0.3   , 0.2935],\n",
       "       [0.4   , 0.2509],\n",
       "       [0.5   , 0.2234],\n",
       "       [0.6   , 0.131 ],\n",
       "       [0.7   , 0.1082],\n",
       "       [0.8   , 0.0634],\n",
       "       [0.9   , 0.0298],\n",
       "       [1.    , 0.0183]])"
      ]
     },
     "execution_count": 16,
     "metadata": {},
     "output_type": "execute_result"
    }
   ],
   "source": [
    "import numpy as np\n",
    "np.asarray(iprec)"
   ]
  },
  {
   "cell_type": "code",
   "execution_count": 17,
   "metadata": {},
   "outputs": [
    {
     "data": {
      "image/png": "[encoded data removed]",
      "text/plain": [
       "<Figure size 432x288 with 1 Axes>"
      ]
     },
     "metadata": {
      "needs_background": "light"
     },
     "output_type": "display_data"
    }
   ],
   "source": [
    "import matplotlib.pyplot as plt\n",
    "plt.plot(x,values)\n",
    "plt.xlabel('Recall')\n",
    "plt.ylabel('Precision')\n",
    "plt.title(\"Czech Averaged 11-Point Precision/Recall\")\n",
    "plt.tight_layout()\n",
    "plt.savefig('plot_run-1_cs_precision_recall.jpg')"
   ]
  },
  {
   "cell_type": "markdown",
   "metadata": {},
   "source": [
    "# Pivoted Document Length Normalization"
   ]
  },
  {
   "cell_type": "code",
   "execution_count": 1,
   "metadata": {},
   "outputs": [],
   "source": [
    "from baseline import Baseline\n",
    "from collections import Counter\n",
    "import json\n",
    "import numpy as np\n",
    "import matplotlib.pyplot as plt"
   ]
  },
  {
   "cell_type": "code",
   "execution_count": 2,
   "metadata": {
    "scrolled": true
   },
   "outputs": [
    {
     "name": "stdout",
     "output_type": "stream",
     "text": [
      "Processing queries\n"
     ]
    },
    {
     "name": "stderr",
     "output_type": "stream",
     "text": [
      "  0%|          | 0/25 [00:00<?, ?it/s]"
     ]
    },
    {
     "name": "stdout",
     "output_type": "stream",
     "text": [
      "['inflace', 'eura']\n"
     ]
    },
    {
     "name": "stderr",
     "output_type": "stream",
     "text": [
      "  4%|▍         | 1/25 [00:00<00:11,  2.18it/s]"
     ]
    },
    {
     "name": "stdout",
     "output_type": "stream",
     "text": [
      "['obnovitelný', 'zdroj']\n"
     ]
    },
    {
     "name": "stderr",
     "output_type": "stream",
     "text": [
      "  8%|▊         | 2/25 [00:01<00:12,  1.90it/s]"
     ]
    },
    {
     "name": "stdout",
     "output_type": "stream",
     "text": [
      "['role', 'policista']\n"
     ]
    },
    {
     "name": "stderr",
     "output_type": "stream",
     "text": [
      " 12%|█▏        | 3/25 [00:02<00:25,  1.17s/it]"
     ]
    },
    {
     "name": "stdout",
     "output_type": "stream",
     "text": [
      "['summit', 'nato', 'bezpečnostní', 'opatření']\n"
     ]
    },
    {
     "name": "stderr",
     "output_type": "stream",
     "text": [
      " 16%|█▌        | 4/25 [00:04<00:25,  1.22s/it]"
     ]
    },
    {
     "name": "stdout",
     "output_type": "stream",
     "text": [
      "['astma', 'dětství']\n"
     ]
    },
    {
     "name": "stderr",
     "output_type": "stream",
     "text": [
      " 20%|██        | 5/25 [00:04<00:17,  1.15it/s]"
     ]
    },
    {
     "name": "stdout",
     "output_type": "stream",
     "text": [
      "['animovaný', 'film']\n"
     ]
    },
    {
     "name": "stderr",
     "output_type": "stream",
     "text": [
      " 24%|██▍       | 6/25 [00:05<00:18,  1.04it/s]"
     ]
    },
    {
     "name": "stdout",
     "output_type": "stream",
     "text": [
      "['australský', 'premiér']\n"
     ]
    },
    {
     "name": "stderr",
     "output_type": "stream",
     "text": [
      " 28%|██▊       | 7/25 [00:06<00:16,  1.08it/s]"
     ]
    },
    {
     "name": "stdout",
     "output_type": "stream",
     "text": [
      "['klonování', 'člověk']\n"
     ]
    },
    {
     "name": "stderr",
     "output_type": "stream",
     "text": [
      " 32%|███▏      | 8/25 [00:12<00:40,  2.39s/it]"
     ]
    },
    {
     "name": "stdout",
     "output_type": "stream",
     "text": [
      "['automobilový', 'bombový', 'útok', 'bali']\n"
     ]
    },
    {
     "name": "stderr",
     "output_type": "stream",
     "text": [
      " 36%|███▌      | 9/25 [00:13<00:31,  1.99s/it]"
     ]
    },
    {
     "name": "stdout",
     "output_type": "stream",
     "text": [
      "['porušení', 'program', 'jaderný', 'zbraň', 'severní', 'korea']\n"
     ]
    },
    {
     "name": "stderr",
     "output_type": "stream",
     "text": [
      " 40%|████      | 10/25 [00:16<00:34,  2.28s/it]"
     ]
    },
    {
     "name": "stdout",
     "output_type": "stream",
     "text": [
      "['oskar', 'film']\n"
     ]
    },
    {
     "name": "stderr",
     "output_type": "stream",
     "text": [
      " 44%|████▍     | 11/25 [00:17<00:26,  1.90s/it]"
     ]
    },
    {
     "name": "stdout",
     "output_type": "stream",
     "text": [
      "['kniha', 'politik']\n"
     ]
    },
    {
     "name": "stderr",
     "output_type": "stream",
     "text": [
      " 48%|████▊     | 12/25 [00:18<00:22,  1.71s/it]"
     ]
    },
    {
     "name": "stdout",
     "output_type": "stream",
     "text": [
      "['snižování', 'riziko', 'onemocnění', 'cukrovka']\n"
     ]
    },
    {
     "name": "stderr",
     "output_type": "stream",
     "text": [
      " 52%|█████▏    | 13/25 [00:18<00:16,  1.37s/it]"
     ]
    },
    {
     "name": "stdout",
     "output_type": "stream",
     "text": [
      "['pivní', 'festival']\n"
     ]
    },
    {
     "name": "stderr",
     "output_type": "stream",
     "text": [
      " 56%|█████▌    | 14/25 [00:19<00:13,  1.20s/it]"
     ]
    },
    {
     "name": "stdout",
     "output_type": "stream",
     "text": [
      "['droga']\n"
     ]
    },
    {
     "name": "stderr",
     "output_type": "stream",
     "text": [
      " 60%|██████    | 15/25 [00:20<00:09,  1.07it/s]"
     ]
    },
    {
     "name": "stdout",
     "output_type": "stream",
     "text": [
      "['rukojmí', 'moskevský', 'divadlo']\n"
     ]
    },
    {
     "name": "stderr",
     "output_type": "stream",
     "text": [
      " 64%|██████▍   | 16/25 [00:21<00:09,  1.07s/it]"
     ]
    },
    {
     "name": "stdout",
     "output_type": "stream",
     "text": [
      "['únos', 'letadlo']\n"
     ]
    },
    {
     "name": "stderr",
     "output_type": "stream",
     "text": [
      " 68%|██████▊   | 17/25 [00:21<00:07,  1.13it/s]"
     ]
    },
    {
     "name": "stdout",
     "output_type": "stream",
     "text": [
      "['prohlášení', 'bülenta', 'ecevita']\n"
     ]
    },
    {
     "name": "stderr",
     "output_type": "stream",
     "text": [
      " 72%|███████▏  | 18/25 [00:22<00:05,  1.34it/s]"
     ]
    },
    {
     "name": "stdout",
     "output_type": "stream",
     "text": [
      "['úložiště', 'jaderný', 'odpad']\n"
     ]
    },
    {
     "name": "stderr",
     "output_type": "stream",
     "text": [
      " 76%|███████▌  | 19/25 [00:22<00:03,  1.52it/s]"
     ]
    },
    {
     "name": "stdout",
     "output_type": "stream",
     "text": [
      "['obezita', 'zdravotní', 'problém']\n"
     ]
    },
    {
     "name": "stderr",
     "output_type": "stream",
     "text": [
      " 80%|████████  | 20/25 [00:25<00:06,  1.32s/it]"
     ]
    },
    {
     "name": "stdout",
     "output_type": "stream",
     "text": [
      "['olympijský', 'medaile', 'sourozenec', 'kosteličový']\n"
     ]
    },
    {
     "name": "stderr",
     "output_type": "stream",
     "text": [
      " 84%|████████▍ | 21/25 [00:26<00:04,  1.17s/it]"
     ]
    },
    {
     "name": "stdout",
     "output_type": "stream",
     "text": [
      "['uzavírání', 'průmyslový', 'obchodní', 'podnik']\n"
     ]
    },
    {
     "name": "stderr",
     "output_type": "stream",
     "text": [
      " 88%|████████▊ | 22/25 [00:28<00:04,  1.34s/it]"
     ]
    },
    {
     "name": "stdout",
     "output_type": "stream",
     "text": [
      "['alternativa', 'očkování', 'chřipka']\n"
     ]
    },
    {
     "name": "stderr",
     "output_type": "stream",
     "text": [
      " 92%|█████████▏| 23/25 [00:28<00:02,  1.02s/it]"
     ]
    },
    {
     "name": "stdout",
     "output_type": "stream",
     "text": [
      "['rozvoj', 'internetový', 'bankovnictví']\n"
     ]
    },
    {
     "name": "stderr",
     "output_type": "stream",
     "text": [
      " 96%|█████████▌| 24/25 [00:29<00:01,  1.00s/it]"
     ]
    },
    {
     "name": "stdout",
     "output_type": "stream",
     "text": [
      "['ohrožený', 'druh']\n"
     ]
    },
    {
     "name": "stderr",
     "output_type": "stream",
     "text": [
      "100%|██████████| 25/25 [00:30<00:00,  1.21s/it]\n"
     ]
    }
   ],
   "source": [
    "# Czech\n",
    "with open(\"run-1_cs_sw_l_index.bin\", \"rb\") as f:\n",
    "    index = json.load(f)\n",
    "class Namespace:\n",
    "    def __init__(self, **kwargs):\n",
    "        self.__dict__.update(kwargs)\n",
    "args = Namespace(documents='documents_cs.lst', run='run-1_cs_sw_l', queries='topics-train_cs.xml',\n",
    "                 output='run-1_train_cs_piv.res', stopwords=True, lemmas=True, lowercase=True, stemming=False, pivoted=False)\n",
    "model = Baseline(args, index)"
   ]
  },
  {
   "cell_type": "code",
   "execution_count": null,
   "metadata": {
    "scrolled": true
   },
   "outputs": [],
   "source": [
    "# English\n",
    "with open(\"run-1_en_sw_s_index.bin\", \"rb\") as f:\n",
    "    index = json.load(f)\n",
    "class Namespace:\n",
    "    def __init__(self, **kwargs):\n",
    "        self.__dict__.update(kwargs)\n",
    "args = Namespace(documents='documents_en.lst', run='run-1_en_sw_s', queries='topics-train_en.xml',\n",
    "                 output='run-1_train_en_piv.res', stopwords=True, lemmas=False, lowercase=True, stemming=True, pivoted=None)\n",
    "model = Baseline(args, index)"
   ]
  },
  {
   "cell_type": "code",
   "execution_count": 3,
   "metadata": {},
   "outputs": [],
   "source": [
    "doc_dict = {doc[0]: list(Counter(doc[1]).values()) for doc in model.docs}"
   ]
  },
  {
   "cell_type": "code",
   "execution_count": 4,
   "metadata": {},
   "outputs": [],
   "source": [
    "length = np.array([np.linalg.norm(counts) for counts in doc_dict.values()])"
   ]
  },
  {
   "cell_type": "code",
   "execution_count": 5,
   "metadata": {},
   "outputs": [],
   "source": [
    "with open(\"qrels-train_cs.txt\", \"r\") as f:\n",
    "    relevant_docs = [line.strip().split() for line in f.readlines()]"
   ]
  },
  {
   "cell_type": "code",
   "execution_count": 6,
   "metadata": {
    "scrolled": true
   },
   "outputs": [],
   "source": [
    "relevant_docs = [[doc[0], doc[2]] for doc in relevant_docs]"
   ]
  },
  {
   "cell_type": "code",
   "execution_count": 25,
   "metadata": {},
   "outputs": [],
   "source": [
    "with open(\"run-1_train_cs_piv0_9.res\", \"r\") as f:\n",
    "    retrieved_docs = [line.strip().split() for line in f.readlines()]"
   ]
  },
  {
   "cell_type": "code",
   "execution_count": 26,
   "metadata": {},
   "outputs": [],
   "source": [
    "retrieved_docs = [[doc[0], doc[2]] for doc in retrieved_docs]"
   ]
  },
  {
   "cell_type": "code",
   "execution_count": 27,
   "metadata": {},
   "outputs": [
    {
     "data": {
      "text/plain": [
       "(25000, 10145)"
      ]
     },
     "execution_count": 27,
     "metadata": {},
     "output_type": "execute_result"
    }
   ],
   "source": [
    "len(retrieved_docs), len(relevant_docs)"
   ]
  },
  {
   "cell_type": "code",
   "execution_count": 28,
   "metadata": {},
   "outputs": [],
   "source": [
    "sorted_docs = [(doc_name, len(terms)) for doc_name, terms in sorted(model.docs, key=lambda x: len(x[1]))]"
   ]
  },
  {
   "cell_type": "code",
   "execution_count": 29,
   "metadata": {},
   "outputs": [],
   "source": [
    "doc_bins = []\n",
    "for i in range(0, len(sorted_docs), 100):\n",
    "    doc_bin = sorted_docs[i: i+100]\n",
    "    doc_bins.append(doc_bin)"
   ]
  },
  {
   "cell_type": "code",
   "execution_count": 30,
   "metadata": {
    "scrolled": true
   },
   "outputs": [],
   "source": [
    "import math\n",
    "medians = []\n",
    "for doc_bin in doc_bins:\n",
    "    if len(doc_bin) % 2 == 0: # even\n",
    "        middle = doc_bin[int(len(doc_bin)/2-1):int(len(doc_bin)/2+1)]\n",
    "    else:\n",
    "        middle = [doc_bin[math.floor(len(doc_bin)/2)]]\n",
    "    middle = [x[1] for x in middle]\n",
    "    median = sum(middle) / float(len(middle))\n",
    "    medians.append(median)"
   ]
  },
  {
   "cell_type": "code",
   "execution_count": 31,
   "metadata": {},
   "outputs": [],
   "source": [
    "docs_in_bins = ([{doc[0] for doc in doc_bin} for doc_bin in doc_bins])"
   ]
  },
  {
   "cell_type": "code",
   "execution_count": 32,
   "metadata": {},
   "outputs": [
    {
     "data": {
      "text/plain": [
       "818"
      ]
     },
     "execution_count": 32,
     "metadata": {},
     "output_type": "execute_result"
    }
   ],
   "source": [
    "len(docs_in_bins)"
   ]
  },
  {
   "cell_type": "code",
   "execution_count": 33,
   "metadata": {
    "scrolled": true
   },
   "outputs": [],
   "source": [
    "relevant_bin_count = np.zeros(len(docs_in_bins))\n",
    "for doc in relevant_docs:\n",
    "    for i, doc_bin in enumerate(docs_in_bins):\n",
    "        if doc[1] in doc_bin:\n",
    "            relevant_bin_count[i] += 1"
   ]
  },
  {
   "cell_type": "code",
   "execution_count": 34,
   "metadata": {
    "scrolled": true
   },
   "outputs": [],
   "source": [
    "prob_relevant_bins = relevant_bin_count/sum(relevant_bin_count)"
   ]
  },
  {
   "cell_type": "code",
   "execution_count": 35,
   "metadata": {
    "scrolled": true
   },
   "outputs": [],
   "source": [
    "retrieved_bin_count = np.zeros(len(docs_in_bins))\n",
    "for doc in retrieved_docs:\n",
    "    for i, doc_bin in enumerate(docs_in_bins):\n",
    "        if doc[1] in doc_bin:\n",
    "            retrieved_bin_count[i] += 1"
   ]
  },
  {
   "cell_type": "code",
   "execution_count": 36,
   "metadata": {},
   "outputs": [],
   "source": [
    "prob_retrieved_bins = retrieved_bin_count/sum(retrieved_bin_count)"
   ]
  },
  {
   "cell_type": "code",
   "execution_count": 37,
   "metadata": {},
   "outputs": [
    {
     "data": {
      "image/png": "[encoded data removed]",
      "text/plain": [
       "<Figure size 432x288 with 1 Axes>"
      ]
     },
     "metadata": {
      "needs_background": "light"
     },
     "output_type": "display_data"
    }
   ],
   "source": [
    "plt.scatter(medians, prob_retrieved_bins, marker='x', label=\"retrieved\")\n",
    "plt.scatter(medians, prob_relevant_bins, marker='.', label=\"relevant\")\n",
    "plt.xscale('log')\n",
    "plt.yscale('log')\n",
    "plt.legend()\n",
    "plt.tight_layout()"
   ]
  },
  {
   "cell_type": "code",
   "execution_count": 38,
   "metadata": {},
   "outputs": [
    {
     "data": {
      "text/plain": [
       "818"
      ]
     },
     "execution_count": 38,
     "metadata": {},
     "output_type": "execute_result"
    }
   ],
   "source": [
    "len(prob_retrieved_bins)"
   ]
  },
  {
   "cell_type": "markdown",
   "metadata": {},
   "source": [
    "\"We generated smooth plots for various figures by representing a\n",
    "sequence of 24 bins by a single point and connecting these points by\n",
    "a curve. The 742 bins yielded 31 different points where the last point\n",
    "represented the longest 22 bins ( 742 = 30 x 24 + 1 x 22). The\n",
    "representative point for a group of bins was obtained by taking averages \n",
    "of both the median lengths, and the probabilities of relevance/retrieval\n",
    "for the 24 (22 for the last point) consecutive bins.\""
   ]
  },
  {
   "cell_type": "code",
   "execution_count": 39,
   "metadata": {},
   "outputs": [],
   "source": [
    "seq_bin_medians = []\n",
    "seq_bin_probs_relevance = []\n",
    "seq_bin_probs_retrieval = []\n",
    "for i in range(0, len(doc_bins), 24):\n",
    "    median = np.mean(medians[i:i+24])\n",
    "    relevance =np.mean(prob_relevant_bins[i:i+24])\n",
    "    retrieved =np.mean(prob_retrieved_bins[i:i+24])\n",
    "    seq_bin_medians.append(median)\n",
    "    seq_bin_probs_relevance.append(relevance)\n",
    "    seq_bin_probs_retrieval.append(retrieved)"
   ]
  },
  {
   "cell_type": "code",
   "execution_count": 41,
   "metadata": {},
   "outputs": [
    {
     "data": {
      "image/png": "[encoded data removed]",
      "text/plain": [
       "<Figure size 432x288 with 1 Axes>"
      ]
     },
     "metadata": {
      "needs_background": "light"
     },
     "output_type": "display_data"
    }
   ],
   "source": [
    "plt.plot(seq_bin_medians, seq_bin_probs_retrieval, marker='x', label=\"retrieved\")\n",
    "plt.plot(seq_bin_medians, seq_bin_probs_relevance, marker='.', label=\"relevant\")\n",
    "# work out crossover point\n",
    "idx = np.argwhere(np.diff(np.sign(np.array(seq_bin_probs_retrieval) - np.array(seq_bin_probs_relevance)))).flatten()[0]\n",
    "#plt.plot(seq_bin_medians[idx], seq_bin_probs_retrieval[idx], 'ro')\n",
    "plt.xscale('log')\n",
    "plt.yscale('log')\n",
    "plt.legend()\n",
    "plt.xlabel('Document Length')\n",
    "plt.ylabel('Probability of Relevance/Retrieval')\n",
    "plt.savefig('plot_cs_rel_ret_pivoted0_9.jpg')\n",
    "#plt.tight_layout()"
   ]
  },
  {
   "cell_type": "code",
   "execution_count": null,
   "metadata": {},
   "outputs": [],
   "source": [
    "seq_bin_medians[idx]"
   ]
  },
  {
   "cell_type": "code",
   "execution_count": null,
   "metadata": {},
   "outputs": [],
   "source": [
    "median_docs = {doc[0] for doc in sorted_docs if doc[1] == int(seq_bin_medians[idx])}"
   ]
  },
  {
   "cell_type": "code",
   "execution_count": null,
   "metadata": {},
   "outputs": [],
   "source": [
    "median_doc_dict = {doc[0]: list(Counter(doc[1]).values()) for doc in model.docs if doc[0] in median_docs}"
   ]
  },
  {
   "cell_type": "code",
   "execution_count": null,
   "metadata": {},
   "outputs": [],
   "source": [
    "pivot_length = np.array([np.linalg.norm(counts) for counts in median_doc_dict.values()])"
   ]
  },
  {
   "cell_type": "code",
   "execution_count": null,
   "metadata": {},
   "outputs": [],
   "source": [
    "np.mean(pivot_length)"
   ]
  },
  {
   "cell_type": "code",
   "execution_count": null,
   "metadata": {},
   "outputs": [],
   "source": [
    "np.mean(length)"
   ]
  },
  {
   "cell_type": "code",
   "execution_count": null,
   "metadata": {},
   "outputs": [],
   "source": []
  }
 ],
 "metadata": {
  "kernelspec": {
   "display_name": "Python 3",
   "language": "python",
   "name": "python3"
  },
  "language_info": {
   "codemirror_mode": {
    "name": "ipython",
    "version": 3
   },
   "file_extension": ".py",
   "mimetype": "text/x-python",
   "name": "python",
   "nbconvert_exporter": "python",
   "pygments_lexer": "ipython3",
   "version": "3.8.10"
  }
 },
 "nbformat": 4,
 "nbformat_minor": 4
}
