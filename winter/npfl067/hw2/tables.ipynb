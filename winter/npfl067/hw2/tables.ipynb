{
 "cells": [
  {
   "cell_type": "code",
   "execution_count": null,
   "metadata": {},
   "outputs": [],
   "source": [
    "import pandas as pd\n",
    "with open('pmi_resultsEN.txt', 'r', encoding='iso-8859-2') as f:\n",
    "    results_en = pd.read_csv(f, sep='\\t', skiprows=(0), header=(0))\n"
   ]
  },
  {
   "cell_type": "code",
   "execution_count": 11,
   "metadata": {},
   "outputs": [
    {
     "name": "stdout",
     "output_type": "stream",
     "text": [
      "\\begin{tabular}{llr}\n",
      "\\toprule\n",
      "          WORD1 &        WORD2 &      PMI \\\\\n",
      "\\midrule\n",
      "      Hamburger &           SV &  14.2890 \\\\\n",
      "            Los &      Angeles &  14.0624 \\\\\n",
      "          Johna &     Newcomba &  13.7629 \\\\\n",
      "             Č. &   Budějovice &  13.6336 \\\\\n",
      "          série &          ATP &  13.4690 \\\\\n",
      "      turnajové &        série &  13.4344 \\\\\n",
      "          Tomáš &        Ježek &  13.4290 \\\\\n",
      "         Lidové &       noviny &  13.3299 \\\\\n",
      "       Lidových &        novin &  13.2710 \\\\\n",
      "      veřejného &       mínění &  13.0624 \\\\\n",
      "        teplota &        minus &  12.9815 \\\\\n",
      "        jaderné &       zbraně &  12.9555 \\\\\n",
      "            Ján &  Čarnogurský &  12.9555 \\\\\n",
      "          Milan &       Máčala &  12.8978 \\\\\n",
      "       lidských &         práv &  12.8629 \\\\\n",
      "      společném &        státě &  12.7084 \\\\\n",
      "      akciových &  společností &  12.6925 \\\\\n",
      "          Pohár &         UEFA &  12.6254 \\\\\n",
      " privatizačních &     projektů &  12.6157 \\\\\n",
      "         George &        Bushe &  12.6030 \\\\\n",
      "\\bottomrule\n",
      "\\end{tabular}\n",
      "\n"
     ]
    }
   ],
   "source": [
    "print(results_en[:20].to_latex(index=False))"
   ]
  },
  {
   "cell_type": "code",
   "execution_count": 90,
   "metadata": {},
   "outputs": [],
   "source": [
    "with open('pmi_resultsEN.txt', 'r') as f:\n",
    "    text = [line.strip().split('\\t') for line in f.readlines()]"
   ]
  },
  {
   "cell_type": "code",
   "execution_count": 91,
   "metadata": {},
   "outputs": [
    {
     "name": "stdout",
     "output_type": "stream",
     "text": [
      "\\begin{tabular}{llll}\n",
      "\\toprule\n",
      "  LABEL &       WORD1 &          WORD2 &      PMI \\\\\n",
      "\\midrule\n",
      " bigram &          La &          Plata &  14.1694 \\\\\n",
      " bigram &         Asa &           Gray &  14.0319 \\\\\n",
      " bigram &       Fritz &         Muller &  13.3620 \\\\\n",
      " bigram &       worth &          while &  13.3329 \\\\\n",
      " bigram &       faced &        tumbler &  13.2625 \\\\\n",
      " bigram &       lowly &      organised &  13.2169 \\\\\n",
      " bigram &       Malay &    Archipelago &  13.1105 \\\\\n",
      " bigram &    shoulder &         stripe &  13.0539 \\\\\n",
      " bigram &       Great &        Britain &  12.9146 \\\\\n",
      " bigram &      United &         States &  12.8474 \\\\\n",
      " bigram &     English &        carrier &  12.5255 \\\\\n",
      " bigram &   specially &        endowed &  12.4018 \\\\\n",
      " bigram &    branched &            off &  12.3774 \\\\\n",
      " bigram &         Sir &              J &  12.3774 \\\\\n",
      " bigram &      mental &      qualities &  12.3620 \\\\\n",
      " bigram &          de &       Candolle &  12.3620 \\\\\n",
      " bigram &   Galapagos &    Archipelago &  12.3449 \\\\\n",
      " bigram &         red &         clover &  12.3239 \\\\\n",
      " bigram &        self &  fertilisation &  12.3169 \\\\\n",
      " bigram &  systematic &       affinity &  12.2518 \\\\\n",
      "\\bottomrule\n",
      "\\end{tabular}\n",
      "\n"
     ]
    }
   ],
   "source": [
    "df = pd.DataFrame(text)\n",
    "df = df.drop(0, axis = 0)\n",
    "df.columns = ['LABEL', 'WORD1','WORD2','PMI']\n",
    "print(df[:20].to_latex(index=False))"
   ]
  },
  {
   "cell_type": "code",
   "execution_count": 94,
   "metadata": {},
   "outputs": [
    {
     "name": "stdout",
     "output_type": "stream",
     "text": [
      "\\begin{tabular}{llll}\n",
      "\\toprule\n",
      "   LABEL &          WORD1 &          WORD2 &     PMI \\\\\n",
      "\\midrule\n",
      " distant &        floated &          dried &  8.7207 \\\\\n",
      " distant &          dried &        floated &  8.6777 \\\\\n",
      " distant &          dried &          dried &  8.2886 \\\\\n",
      " distant &       shoulder &         stripe &  8.2023 \\\\\n",
      " distant &         stripe &       shoulder &  8.2023 \\\\\n",
      " distant &     germinated &          dried &  8.1511 \\\\\n",
      " distant &          dried &     germinated &  8.1511 \\\\\n",
      " distant &        floated &        floated &  8.1428 \\\\\n",
      " distant &         clover &         clover &  8.0118 \\\\\n",
      " distant &          heath &          heath &  7.9722 \\\\\n",
      " distant &        Pacific &        eastern &  7.9653 \\\\\n",
      " distant &        eastern &        Pacific &  7.9653 \\\\\n",
      " distant &     germinated &        floated &  7.9552 \\\\\n",
      " distant &        floated &     germinated &  7.9552 \\\\\n",
      " distant &     avicularia &      vibracula &  7.8397 \\\\\n",
      " distant &          Plata &             La &  7.8032 \\\\\n",
      " distant &             La &          Plata &  7.8032 \\\\\n",
      " distant &  metamorphosed &  metamorphosed &  7.8032 \\\\\n",
      " distant &           days &          dried &  7.8032 \\\\\n",
      " distant &           cave &           cave &  7.8032 \\\\\n",
      "\\bottomrule\n",
      "\\end{tabular}\n",
      "\n"
     ]
    }
   ],
   "source": [
    "print(df[df['LABEL'] == 'distant'][:20].to_latex(index=False))"
   ]
  },
  {
   "cell_type": "code",
   "execution_count": null,
   "metadata": {},
   "outputs": [],
   "source": []
  }
 ],
 "metadata": {
  "kernelspec": {
   "display_name": "Python 3",
   "language": "python",
   "name": "python3"
  },
  "language_info": {
   "codemirror_mode": {
    "name": "ipython",
    "version": 3
   },
   "file_extension": ".py",
   "mimetype": "text/x-python",
   "name": "python",
   "nbconvert_exporter": "python",
   "pygments_lexer": "ipython3",
   "version": "3.8.10"
  }
 },
 "nbformat": 4,
 "nbformat_minor": 4
}
