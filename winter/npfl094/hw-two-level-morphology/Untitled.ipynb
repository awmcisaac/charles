{
 "cells": [
  {
   "cell_type": "code",
   "execution_count": 139,
   "metadata": {},
   "outputs": [],
   "source": [
    "import re\n",
    "with open(\"lexicon.txt\") as f:\n",
    "    lexicon = [tuple(line.strip().split(\"\\t\")) for line in f.readlines()]"
   ]
  },
  {
   "cell_type": "code",
   "execution_count": 140,
   "metadata": {},
   "outputs": [],
   "source": [
    "adjectives = [(word, \"AdjDeg\") for word, tag in list(filter(lambda line: \"ADJE\" in line, lexicon))]"
   ]
  },
  {
   "cell_type": "code",
   "execution_count": 141,
   "metadata": {},
   "outputs": [],
   "source": [
    "masc_weak_nouns = [(word, \"NMW\") for word, tag in list(filter(lambda line: \"NOUN|M|Weak\" in line, lexicon))]"
   ]
  },
  {
   "cell_type": "code",
   "execution_count": 142,
   "metadata": {},
   "outputs": [],
   "source": [
    "# masculine nouns with no ending in the plural (optional umlaut)\n",
    "masc_no_nouns = [(word, \"NMno\") for word, tag in list(filter(lambda line: \"NOUN|M|no\" in line, lexicon))]\n",
    "masc_e_nouns = [(word, \"NMe\") for word, tag in list(filter(lambda line: \"NOUN|M|e\" in line, lexicon))]\n",
    "masc_n_nouns = [(word, \"NMn\") for word, tag in list(filter(lambda line: \"NOUN|M|n\" in line, lexicon))]\n",
    "masc_er_nouns = [(word, \"NMer\") for word, tag in list(filter(lambda line: \"NOUN|M|er\" in line, lexicon))]\n",
    "masc_s_nouns = [(word, \"NMs\") for word, tag in list(filter(lambda line: \"NOUN|M|s\" in line, lexicon))]"
   ]
  },
  {
   "cell_type": "code",
   "execution_count": 162,
   "metadata": {},
   "outputs": [],
   "source": [
    "# feminine nouns with no ending in the plural (optional umlaut)\n",
    "fem_no_nouns = [(word, \"NFno\") for word, tag in list(filter(lambda line: \"NOUN|F|no\" in line, lexicon))]\n",
    "fem_e_nouns = [(word, \"NFe\") for word, tag in list(filter(lambda line: \"NOUN|F|e\" in line, lexicon))]\n",
    "fem_n_nouns = [(word, \"NFn\") for word, tag in list(filter(lambda line: \"NOUN|F|en\" in line, lexicon))]\n",
    "fem_s_nouns = [(word, \"NFs\") for word, tag in list(filter(lambda line: \"NOUN|F|s\" in line, lexicon))]"
   ]
  },
  {
   "cell_type": "code",
   "execution_count": 161,
   "metadata": {},
   "outputs": [
    {
     "data": {
      "text/plain": [
       "[('Filmfirma', 'NFs'),\n",
       " ('Junta', 'NFs'),\n",
       " ('Rikscha', 'NFs'),\n",
       " ('Zirkusarena', 'NFs'),\n",
       " ('Anlagefirma', 'NFs'),\n",
       " ('Soldateska', 'NFs'),\n",
       " ('Tu', 'NFs'),\n",
       " ('Zahnpasta', 'NFs'),\n",
       " ('Kobra', 'NFs'),\n",
       " ('Guerilla', 'NFs'),\n",
       " ('Delta', 'NFs'),\n",
       " ('Disco', 'NFs'),\n",
       " ('Hauptfirma', 'NFs'),\n",
       " ('Oma', 'NFs'),\n",
       " ('Fauna', 'NFs'),\n",
       " ('Flora', 'NFs'),\n",
       " ('Gutachterfirma', 'NFs'),\n",
       " ('Baufirma', 'NFs'),\n",
       " ('Kickerlobby', 'NFs'),\n",
       " ('Charta', 'NFs'),\n",
       " ('Jury', 'NFs'),\n",
       " ('Sozialcharta', 'NFs'),\n",
       " ('Prostata', 'NFs'),\n",
       " ('Diaspora', 'NFs'),\n",
       " ('Ballerina', 'NFs'),\n",
       " ('Tundra', 'NFs'),\n",
       " ('Erfolgsstory', 'NFs'),\n",
       " ('Pharmafirma', 'NFs'),\n",
       " ('Kamera', 'NFs'),\n",
       " ('Lady', 'NFs'),\n",
       " ('Lira', 'NFs'),\n",
       " ('Firma', 'NFs'),\n",
       " ('Regionalliga', 'NFs'),\n",
       " ('Konsumentenlobby', 'NFs'),\n",
       " ('Liga', 'NFs'),\n",
       " ('Luxusvilla', 'NFs'),\n",
       " ('Morgana', 'NFs'),\n",
       " ('Produktionsfirma', 'NFs'),\n",
       " ('Familienfirma', 'NFs'),\n",
       " ('City', 'NFs'),\n",
       " ('Wäschefirma', 'NFs'),\n",
       " ('Madonna', 'NFs'),\n",
       " ('Mama', 'NFs'),\n",
       " ('Frauenjury', 'NFs'),\n",
       " ('Investmentfirma', 'NFs'),\n",
       " ('Softwarefirma', 'NFs'),\n",
       " ('Demo', 'NFs'),\n",
       " ('Uni', 'NFs'),\n",
       " ('Ferienfirma', 'NFs'),\n",
       " ('Leasingfirma', 'NFs'),\n",
       " ('Sportarena', 'NFs'),\n",
       " ('Immobilienfirma', 'NFs'),\n",
       " ('Militärjunta', 'NFs'),\n",
       " ('Fatwa', 'NFs'),\n",
       " ('Arena', 'NFs'),\n",
       " ('Gemeinschaftsfirma', 'NFs'),\n",
       " ('Telefonfirma', 'NFs'),\n",
       " ('Schwarzenlobby', 'NFs'),\n",
       " ('Generikafirma', 'NFs'),\n",
       " ('Stasi', 'NFs'),\n",
       " ('Story', 'NFs'),\n",
       " ('Videokamera', 'NFs'),\n",
       " ('Sauna', 'NFs'),\n",
       " ('Wirtschaftslobby', 'NFs'),\n",
       " ('Stromfirma', 'NFs'),\n",
       " ('Ngo', 'NFs'),\n",
       " ('Regimepropaganda', 'NFs'),\n",
       " ('Kriegspropaganda', 'NFs'),\n",
       " ('Beratungsfirma', 'NFs'),\n",
       " ('Kopra', 'NFs'),\n",
       " ('Traditionsfirma', 'NFs'),\n",
       " ('Maniera', 'NFs'),\n",
       " ('Patina', 'NFs'),\n",
       " ('Taiga', 'NFs'),\n",
       " ('Maklerfirma', 'NFs'),\n",
       " ('Prosa', 'NFs'),\n",
       " ('Lobby', 'NFs'),\n",
       " ('Troika', 'NFs'),\n",
       " ('Genfirma', 'NFs'),\n",
       " ('Tochterfirma', 'NFs'),\n",
       " ('Party', 'NFs'),\n",
       " ('Duma', 'NFs'),\n",
       " ('Propaganda', 'NFs'),\n",
       " ('Geburtstagsparty', 'NFs'),\n",
       " ('Staatsduma', 'NFs'),\n",
       " ('Villa', 'NFs'),\n",
       " ('Allfinanzfirma', 'NFs'),\n",
       " ('Bundesliga', 'NFs'),\n",
       " ('Geldwechselfirma', 'NFs'),\n",
       " ('Perestroika', 'NFs'),\n",
       " ('Betreiberfirma', 'NFs'),\n",
       " ('Pizza', 'NFs'),\n",
       " ('Teilkasko', 'NFs'),\n",
       " ('Agenda', 'NFs'),\n",
       " ('Ära', 'NFs'),\n",
       " ('Marktforschungsfirma', 'NFs'),\n",
       " ('Vita', 'NFs'),\n",
       " ('Primadonna', 'NFs'),\n",
       " ('Skala', 'NFs'),\n",
       " ('Panoramakamera', 'NFs'),\n",
       " ('Alterspatina', 'NFs'),\n",
       " ('Aura', 'NFs')]"
      ]
     },
     "execution_count": 161,
     "metadata": {},
     "output_type": "execute_result"
    }
   ],
   "source": [
    "fem_s_nouns"
   ]
  },
  {
   "cell_type": "code",
   "execution_count": 144,
   "metadata": {},
   "outputs": [],
   "source": [
    "# neuter nouns with no ending in the plural (optional umlaut)\n",
    "neut_no_nouns = [(word, \"NNno\") for word, tag in list(filter(lambda line: \"NOUN|N|no\" in line, lexicon))]\n",
    "neut_e_nouns = [(word, \"NNe\") for word, tag in list(filter(lambda line: \"NOUN|N|e\" in line, lexicon))]\n",
    "neut_n_nouns = [(word, \"NNn\") for word, tag in list(filter(lambda line: \"NOUN|N|n\" in line, lexicon))]\n",
    "neut_er_nouns = [(word, \"NNer\") for word, tag in list(filter(lambda line: \"NOUN|N|er\" in line, lexicon))]\n",
    "neut_s_nouns = [(word, \"NNs\") for word, tag in list(filter(lambda line: \"NOUN|N|s\" in line, lexicon))]"
   ]
  },
  {
   "cell_type": "code",
   "execution_count": 145,
   "metadata": {},
   "outputs": [],
   "source": [
    "neut_unk_nouns = list(filter(lambda line: \"NOUN|N\" in line, lexicon))"
   ]
  },
  {
   "cell_type": "code",
   "execution_count": 146,
   "metadata": {},
   "outputs": [],
   "source": [
    "neut_s_nouns += [(word, \"NNs\") for word, tag in list(filter(lambda c: re.search(r'(a|i|o|u)$', c[0]), neut_unk_nouns))]"
   ]
  },
  {
   "cell_type": "code",
   "execution_count": 147,
   "metadata": {},
   "outputs": [],
   "source": [
    "neut_unk_nouns = list(filter(lambda c: not re.search(r'(a|i|o|u)$', c[0]), neut_unk_nouns))"
   ]
  },
  {
   "cell_type": "code",
   "execution_count": 148,
   "metadata": {},
   "outputs": [],
   "source": [
    "neut_no_nouns += [(word, \"NNno\") for word, tag in list(filter(lambda c: re.search(r'(el|er|en)$', c[0]), neut_unk_nouns))]"
   ]
  },
  {
   "cell_type": "code",
   "execution_count": 149,
   "metadata": {},
   "outputs": [],
   "source": [
    "neut_unk_nouns = list(filter(lambda c: not re.search(r'(el|er|en)$', c[0]), neut_unk_nouns))"
   ]
  },
  {
   "cell_type": "code",
   "execution_count": 150,
   "metadata": {},
   "outputs": [],
   "source": [
    "neut_se_nouns = [(word, \"NNse\") for word, tag in list(filter(lambda c: re.search(r'nis$', c[0]), neut_unk_nouns))]"
   ]
  },
  {
   "cell_type": "code",
   "execution_count": 151,
   "metadata": {},
   "outputs": [],
   "source": [
    "neut_unk_nouns = list(filter(lambda c: not re.search(r'nis$', c[0]), neut_unk_nouns))"
   ]
  },
  {
   "cell_type": "code",
   "execution_count": 152,
   "metadata": {},
   "outputs": [],
   "source": [
    "# very roughly, everything else should be plurals ending in -er\n",
    "neut_er_nouns += [(word, \"NNer\") for word, tag in neut_unk_nouns]"
   ]
  },
  {
   "cell_type": "code",
   "execution_count": null,
   "metadata": {},
   "outputs": [],
   "source": []
  },
  {
   "cell_type": "code",
   "execution_count": 157,
   "metadata": {},
   "outputs": [],
   "source": [
    "with open(\"german-lexicon.lexc\", \"a+\") as f:\n",
    "    f.write(\"LEXICON Adjective\\n\\n\")\n",
    "    for adj, tag in adjectives:\n",
    "        f.write(adj+\"\\t\"+tag+\";\\n\")\n",
    "    f.write(\"\\n\")\n",
    "    f.write(\"LEXICON Noun\\n\")\n",
    "    for noun, tag in masc_weak_nouns+masc_no_nouns+masc_e_nouns+masc_n_nouns+masc_er_nouns+masc_s_nouns:\n",
    "        f.write(noun+\"\\t\"+tag+\";\\n\")\n",
    "    for noun, tag in fem_no_nouns+fem_e_nouns+fem_n_nouns+fem_s_nouns:\n",
    "        f.write(noun+\"\\t\"+tag+\";\\n\")\n",
    "    for noun, tag in neut_no_nouns+neut_e_nouns+neut_n_nouns+neut_er_nouns+neut_s_nouns+neut_se_nouns:\n",
    "        f.write(noun+\"\\t\"+tag+\";\\n\")"
   ]
  },
  {
   "cell_type": "code",
   "execution_count": 163,
   "metadata": {},
   "outputs": [],
   "source": [
    "with open(\"german-lexicon.lexc\", \"a+\") as f:\n",
    "    f.write(\"\\n\\n\")\n",
    "    for noun, tag in fem_n_nouns:\n",
    "        f.write(noun+\"\\t\"+tag+\";\\n\")"
   ]
  },
  {
   "cell_type": "code",
   "execution_count": null,
   "metadata": {},
   "outputs": [],
   "source": []
  }
 ],
 "metadata": {
  "kernelspec": {
   "display_name": "Python 3",
   "language": "python",
   "name": "python3"
  },
  "language_info": {
   "codemirror_mode": {
    "name": "ipython",
    "version": 3
   },
   "file_extension": ".py",
   "mimetype": "text/x-python",
   "name": "python",
   "nbconvert_exporter": "python",
   "pygments_lexer": "ipython3",
   "version": "3.8.10"
  }
 },
 "nbformat": 4,
 "nbformat_minor": 4
}
